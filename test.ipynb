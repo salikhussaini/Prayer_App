{
 "cells": [
  {
   "cell_type": "code",
   "execution_count": null,
   "id": "d20cec2b",
   "metadata": {},
   "outputs": [],
   "source": [
    "import sqlite3\n",
    "import requests\n",
    "from datetime import datetime, timedelta, date,"
   ]
  },
  {
   "cell_type": "code",
   "execution_count": 15,
   "id": "b7d73795",
   "metadata": {},
   "outputs": [
    {
     "data": {
      "text/plain": [
       "datetime.datetime(2025, 7, 15, 0, 0)"
      ]
     },
     "execution_count": 15,
     "metadata": {},
     "output_type": "execute_result"
    }
   ],
   "source": [
    "datetime(2025,7,15)"
   ]
  },
  {
   "cell_type": "code",
   "execution_count": 23,
   "id": "5eb46a6f",
   "metadata": {},
   "outputs": [],
   "source": [
    "\"\"\"Fetch prayer times for a date range from the new API and store each day in DB.\"\"\"\n",
    "url = f\"https://api.aladhan.com/v1/calendarByCity/from/{datetime(2025,7,15).strftime('%d-%m-%Y')}/to/{datetime(2025,7,30).strftime('%d-%m-%Y')}\"\n",
    "\n",
    "params = {\n",
    "    \"city\": 'Chicago',\n",
    "    \"country\": 'United States',\n",
    "    \"method\": 2,    # Same method as single-day\n",
    "    \"school\": 1,\n",
    "    \"calendarMethod\": \"HJCoSA\",\n",
    "    \"iso8601\": \"false\",\n",
    "    # add more params if needed\n",
    "}\n",
    "\n",
    "response = requests.get(url, params=params)\n",
    "response.raise_for_status()\n",
    "data = response.json()"
   ]
  },
  {
   "cell_type": "code",
   "execution_count": 28,
   "id": "cbe7ebee",
   "metadata": {},
   "outputs": [
    {
     "data": {
      "text/plain": [
       "{'readable': '14 Jul 2025',\n",
       " 'timestamp': '1752550501',\n",
       " 'gregorian': {'date': '14-07-2025',\n",
       "  'format': 'DD-MM-YYYY',\n",
       "  'day': '14',\n",
       "  'weekday': {'en': 'Monday'},\n",
       "  'month': {'number': 7, 'en': 'July'},\n",
       "  'year': '2025',\n",
       "  'designation': {'abbreviated': 'AD', 'expanded': 'Anno Domini'},\n",
       "  'lunarSighting': False},\n",
       " 'hijri': {'date': '19-01-1447',\n",
       "  'format': 'DD-MM-YYYY',\n",
       "  'day': '19',\n",
       "  'weekday': {'en': 'Al Athnayn', 'ar': 'الاثنين'},\n",
       "  'month': {'number': 1, 'en': 'Muḥarram', 'ar': 'مُحَرَّم', 'days': 30},\n",
       "  'year': '1447',\n",
       "  'designation': {'abbreviated': 'AH', 'expanded': 'Anno Hegirae'},\n",
       "  'holidays': ['Urs of Shaykh Darwish Muhammad ق'],\n",
       "  'adjustedHolidays': [],\n",
       "  'method': 'HJCoSA'}}"
      ]
     },
     "execution_count": 28,
     "metadata": {},
     "output_type": "execute_result"
    }
   ],
   "source": [
    "data['data'][0]['date']"
   ]
  },
  {
   "cell_type": "code",
   "execution_count": null,
   "id": "aa90b4ea",
   "metadata": {},
   "outputs": [
    {
     "name": "stdout",
     "output_type": "stream",
     "text": [
      "19-01-1447 Muḥarram 1\n"
     ]
    }
   ],
   "source": [
    "hijri_date = data['data'][0]['date']['hijri']['date']\n",
    "print(hijri_date, hijri_month_name, hijri_month_number)"
   ]
  },
  {
   "cell_type": "code",
   "execution_count": 24,
   "id": "27ec7dbc",
   "metadata": {},
   "outputs": [
    {
     "name": "stdout",
     "output_type": "stream",
     "text": [
      "Date: 14-07-2025, Hijri: 19-01-1447, Timings: {'Fajr': '03:49 (CDT)', 'Sunrise': '05:28 (CDT)', 'Dhuhr': '12:57 (CDT)', 'Asr': '18:09 (CDT)', 'Sunset': '20:25 (CDT)', 'Maghrib': '20:25 (CDT)', 'Isha': '22:03 (CDT)', 'Imsak': '03:39 (CDT)', 'Midnight': '00:56 (CDT)', 'Firstthird': '23:26 (CDT)', 'Lastthird': '02:27 (CDT)'}\n",
      "Date: 15-07-2025, Hijri: 20-01-1447, Timings: {'Fajr': '03:51 (CDT)', 'Sunrise': '05:29 (CDT)', 'Dhuhr': '12:57 (CDT)', 'Asr': '18:09 (CDT)', 'Sunset': '20:24 (CDT)', 'Maghrib': '20:24 (CDT)', 'Isha': '22:02 (CDT)', 'Imsak': '03:41 (CDT)', 'Midnight': '00:57 (CDT)', 'Firstthird': '23:26 (CDT)', 'Lastthird': '02:27 (CDT)'}\n",
      "Date: 16-07-2025, Hijri: 21-01-1447, Timings: {'Fajr': '03:52 (CDT)', 'Sunrise': '05:30 (CDT)', 'Dhuhr': '12:57 (CDT)', 'Asr': '18:08 (CDT)', 'Sunset': '20:23 (CDT)', 'Maghrib': '20:23 (CDT)', 'Isha': '22:01 (CDT)', 'Imsak': '03:42 (CDT)', 'Midnight': '00:57 (CDT)', 'Firstthird': '23:26 (CDT)', 'Lastthird': '02:28 (CDT)'}\n",
      "Date: 17-07-2025, Hijri: 22-01-1447, Timings: {'Fajr': '03:53 (CDT)', 'Sunrise': '05:31 (CDT)', 'Dhuhr': '12:57 (CDT)', 'Asr': '18:08 (CDT)', 'Sunset': '20:23 (CDT)', 'Maghrib': '20:23 (CDT)', 'Isha': '22:00 (CDT)', 'Imsak': '03:43 (CDT)', 'Midnight': '00:57 (CDT)', 'Firstthird': '23:25 (CDT)', 'Lastthird': '02:28 (CDT)'}\n",
      "Date: 18-07-2025, Hijri: 23-01-1447, Timings: {'Fajr': '03:54 (CDT)', 'Sunrise': '05:32 (CDT)', 'Dhuhr': '12:57 (CDT)', 'Asr': '18:08 (CDT)', 'Sunset': '20:22 (CDT)', 'Maghrib': '20:22 (CDT)', 'Isha': '21:59 (CDT)', 'Imsak': '03:44 (CDT)', 'Midnight': '00:57 (CDT)', 'Firstthird': '23:25 (CDT)', 'Lastthird': '02:28 (CDT)'}\n",
      "Date: 19-07-2025, Hijri: 24-01-1447, Timings: {'Fajr': '03:56 (CDT)', 'Sunrise': '05:32 (CDT)', 'Dhuhr': '12:57 (CDT)', 'Asr': '18:07 (CDT)', 'Sunset': '20:21 (CDT)', 'Maghrib': '20:21 (CDT)', 'Isha': '21:58 (CDT)', 'Imsak': '03:46 (CDT)', 'Midnight': '00:57 (CDT)', 'Firstthird': '23:25 (CDT)', 'Lastthird': '02:29 (CDT)'}\n",
      "Date: 20-07-2025, Hijri: 25-01-1447, Timings: {'Fajr': '03:57 (CDT)', 'Sunrise': '05:33 (CDT)', 'Dhuhr': '12:57 (CDT)', 'Asr': '18:07 (CDT)', 'Sunset': '20:20 (CDT)', 'Maghrib': '20:20 (CDT)', 'Isha': '21:57 (CDT)', 'Imsak': '03:47 (CDT)', 'Midnight': '00:57 (CDT)', 'Firstthird': '23:25 (CDT)', 'Lastthird': '02:29 (CDT)'}\n",
      "Date: 21-07-2025, Hijri: 26-01-1447, Timings: {'Fajr': '03:58 (CDT)', 'Sunrise': '05:34 (CDT)', 'Dhuhr': '12:57 (CDT)', 'Asr': '18:06 (CDT)', 'Sunset': '20:20 (CDT)', 'Maghrib': '20:20 (CDT)', 'Isha': '21:55 (CDT)', 'Imsak': '03:48 (CDT)', 'Midnight': '00:57 (CDT)', 'Firstthird': '23:24 (CDT)', 'Lastthird': '02:29 (CDT)'}\n",
      "Date: 22-07-2025, Hijri: 27-01-1447, Timings: {'Fajr': '04:00 (CDT)', 'Sunrise': '05:35 (CDT)', 'Dhuhr': '12:57 (CDT)', 'Asr': '18:06 (CDT)', 'Sunset': '20:19 (CDT)', 'Maghrib': '20:19 (CDT)', 'Isha': '21:54 (CDT)', 'Imsak': '03:50 (CDT)', 'Midnight': '00:57 (CDT)', 'Firstthird': '23:24 (CDT)', 'Lastthird': '02:30 (CDT)'}\n",
      "Date: 23-07-2025, Hijri: 28-01-1447, Timings: {'Fajr': '04:01 (CDT)', 'Sunrise': '05:36 (CDT)', 'Dhuhr': '12:57 (CDT)', 'Asr': '18:06 (CDT)', 'Sunset': '20:18 (CDT)', 'Maghrib': '20:18 (CDT)', 'Isha': '21:53 (CDT)', 'Imsak': '03:51 (CDT)', 'Midnight': '00:57 (CDT)', 'Firstthird': '23:24 (CDT)', 'Lastthird': '02:30 (CDT)'}\n",
      "Date: 24-07-2025, Hijri: 29-01-1447, Timings: {'Fajr': '04:02 (CDT)', 'Sunrise': '05:37 (CDT)', 'Dhuhr': '12:57 (CDT)', 'Asr': '18:05 (CDT)', 'Sunset': '20:17 (CDT)', 'Maghrib': '20:17 (CDT)', 'Isha': '21:51 (CDT)', 'Imsak': '03:52 (CDT)', 'Midnight': '00:57 (CDT)', 'Firstthird': '23:24 (CDT)', 'Lastthird': '02:30 (CDT)'}\n",
      "Date: 25-07-2025, Hijri: 30-01-1447, Timings: {'Fajr': '04:04 (CDT)', 'Sunrise': '05:38 (CDT)', 'Dhuhr': '12:57 (CDT)', 'Asr': '18:05 (CDT)', 'Sunset': '20:16 (CDT)', 'Maghrib': '20:16 (CDT)', 'Isha': '21:50 (CDT)', 'Imsak': '03:54 (CDT)', 'Midnight': '00:57 (CDT)', 'Firstthird': '23:23 (CDT)', 'Lastthird': '02:31 (CDT)'}\n",
      "Date: 26-07-2025, Hijri: 01-02-1447, Timings: {'Fajr': '04:05 (CDT)', 'Sunrise': '05:39 (CDT)', 'Dhuhr': '12:57 (CDT)', 'Asr': '18:04 (CDT)', 'Sunset': '20:15 (CDT)', 'Maghrib': '20:15 (CDT)', 'Isha': '21:49 (CDT)', 'Imsak': '03:55 (CDT)', 'Midnight': '00:57 (CDT)', 'Firstthird': '23:23 (CDT)', 'Lastthird': '02:31 (CDT)'}\n",
      "Date: 27-07-2025, Hijri: 02-02-1447, Timings: {'Fajr': '04:06 (CDT)', 'Sunrise': '05:40 (CDT)', 'Dhuhr': '12:57 (CDT)', 'Asr': '18:03 (CDT)', 'Sunset': '20:14 (CDT)', 'Maghrib': '20:14 (CDT)', 'Isha': '21:47 (CDT)', 'Imsak': '03:56 (CDT)', 'Midnight': '00:57 (CDT)', 'Firstthird': '23:23 (CDT)', 'Lastthird': '02:31 (CDT)'}\n",
      "Date: 28-07-2025, Hijri: 03-02-1447, Timings: {'Fajr': '04:08 (CDT)', 'Sunrise': '05:41 (CDT)', 'Dhuhr': '12:57 (CDT)', 'Asr': '18:03 (CDT)', 'Sunset': '20:13 (CDT)', 'Maghrib': '20:13 (CDT)', 'Isha': '21:46 (CDT)', 'Imsak': '03:58 (CDT)', 'Midnight': '00:57 (CDT)', 'Firstthird': '23:22 (CDT)', 'Lastthird': '02:32 (CDT)'}\n",
      "Date: 29-07-2025, Hijri: 04-02-1447, Timings: {'Fajr': '04:09 (CDT)', 'Sunrise': '05:42 (CDT)', 'Dhuhr': '12:57 (CDT)', 'Asr': '18:02 (CDT)', 'Sunset': '20:12 (CDT)', 'Maghrib': '20:12 (CDT)', 'Isha': '21:44 (CDT)', 'Imsak': '03:59 (CDT)', 'Midnight': '00:57 (CDT)', 'Firstthird': '23:22 (CDT)', 'Lastthird': '02:32 (CDT)'}\n"
     ]
    }
   ],
   "source": [
    "for data_obj in data['data']:\n",
    "    date_str = data_obj['date']['gregorian']['date']\n",
    "    hijri_date = data_obj['date']['hijri']['date']\n",
    "    timings = data_obj['timings']\n",
    "    print(f\"Date: {date_str}, Hijri: {hijri_date}, Timings: {timings}\")\n"
   ]
  },
  {
   "cell_type": "code",
   "execution_count": 2,
   "id": "3ffda6d3",
   "metadata": {},
   "outputs": [],
   "source": [
    "   \n",
    "def fetch_prayer_times_range(start_date, end_date, city, country=\"\"):\n",
    "    \"\"\"Fetch prayer times for a date range from the new API and store each day in DB.\"\"\"\n",
    "    url = f\"https://api.aladhan.com/v1/calendarByCity/from/{start_date.strftime('%d-%m-%Y')}/to/{end_date.strftime('%d-%m-%Y')}\"\n",
    "    \n",
    "    params = {\n",
    "        \"city\": city,\n",
    "        \"country\": country,\n",
    "        \"method\": 2,    # Same method as single-day\n",
    "        \"school\": 1,\n",
    "        \"calendarMethod\": \"HJCoSA\",\n",
    "        \"iso8601\": \"false\",\n",
    "        # add more params if needed\n",
    "    }\n",
    "\n",
    "    try:\n",
    "        response = requests.get(url, params=params)\n",
    "        response.raise_for_status()\n",
    "        data = response.json()\n",
    "\n",
    "        # The API returns data in data.data array for each day\n",
    "        for day_data in data.get(\"data\", []):\n",
    "            greg_date_str = day_data[\"date\"][\"gregorian\"][\"date\"]  # e.g. \"01-02-2025\"\n",
    "            date = datetime.strptime(greg_date_str, \"%d-%m-%Y\").date()\n",
    "            timings = day_data[\"timings\"]\n",
    "            \n",
    "            times = {\n",
    "                \"Fajr\": convert_to_24hr(clean_timezone_suffix(timings[\"Fajr\"])),\n",
    "                \"Dhuhr\": convert_to_24hr(clean_timezone_suffix(timings[\"Dhuhr\"])),\n",
    "                \"Asr\": convert_to_24hr(clean_timezone_suffix(timings[\"Asr\"])),\n",
    "                \"Maghrib\": convert_to_24hr(clean_timezone_suffix(timings[\"Maghrib\"])),\n",
    "                \"Isha\": convert_to_24hr(clean_timezone_suffix(timings[\"Isha\"]))\n",
    "            }\n",
    "\n",
    "            store_prayer_times(date, city, times)\n",
    "        print(f\"Stored prayer times for {city} on between {start_date} and {end_date} successfully.\")\n",
    "\n",
    "        return True\n",
    "    except Exception as e:\n",
    "        print(f\"Error fetching date range prayer times: {e}\")\n",
    "        return False\n"
   ]
  },
  {
   "cell_type": "code",
   "execution_count": null,
   "id": "808c28e4",
   "metadata": {},
   "outputs": [],
   "source": [
    "\n",
    "\n",
    "DB_PATH = \"prayer_times.db\"\n",
    "\n",
    "def init_db():\n",
    "    conn = sqlite3.connect(DB_PATH)\n",
    "    cursor = conn.cursor()\n",
    "    cursor.execute(\"\"\"\n",
    "        CREATE TABLE IF NOT EXISTS prayer_times (\n",
    "            date TEXT,\n",
    "            city TEXT,\n",
    "            fajr TEXT,\n",
    "            dhuhr TEXT,\n",
    "            asr TEXT,\n",
    "            maghrib TEXT,\n",
    "            isha TEXT,\n",
    "            PRIMARY KEY (date, city)\n",
    "        )\n",
    "    \"\"\")\n",
    "    conn.commit()\n",
    "    conn.close()\n",
    "\n",
    "def store_prayer_times(date, city, times):\n",
    "    conn = sqlite3.connect(DB_PATH)\n",
    "    cursor = conn.cursor()\n",
    "    cursor.execute(\"\"\"\n",
    "        INSERT OR REPLACE INTO prayer_times (date, city, fajr, dhuhr, asr, maghrib, isha)\n",
    "        VALUES (?, ?, ?, ?, ?, ?, ?)\n",
    "    \"\"\", (\n",
    "        date.strftime(\"%Y-%m-%d\"),\n",
    "        city,\n",
    "        times[\"Fajr\"],\n",
    "        times[\"Dhuhr\"],\n",
    "        times[\"Asr\"],\n",
    "        times[\"Maghrib\"],\n",
    "        times[\"Isha\"]\n",
    "    ))\n",
    "    conn.commit()\n",
    "    conn.close()\n",
    "def get_prayer_times_from_db(date, city):\n",
    "    conn = sqlite3.connect(DB_PATH)\n",
    "    cursor = conn.cursor()\n",
    "    cursor.execute(\"\"\"\n",
    "        SELECT fajr, dhuhr, asr, maghrib, isha FROM prayer_times\n",
    "        WHERE date=? AND city=?\n",
    "    \"\"\", (date.strftime(\"%Y-%m-%d\"), city))\n",
    "    row = cursor.fetchone()\n",
    "    conn.close()\n",
    "    if row:\n",
    "        return {\n",
    "            \"Fajr\": row[0],\n",
    "            \"Dhuhr\": row[1],\n",
    "            \"Asr\": row[2],\n",
    "            \"Maghrib\": row[3],\n",
    "            \"Isha\": row[4]\n",
    "        }\n",
    "    return None\n",
    "def get_prayer_times_range_from_db(start_date, end_date, city):\n",
    "    conn = sqlite3.connect(DB_PATH)\n",
    "    cursor = conn.cursor()\n",
    "\n",
    "    cursor.execute('''\n",
    "        SELECT date, fajr, dhuhr, asr, maghrib, isha\n",
    "        FROM prayer_times\n",
    "        WHERE city = ? AND date BETWEEN ? AND ?\n",
    "    ''', (city, start_date.strftime(\"%Y-%m-%d\"), end_date.strftime(\"%Y-%m-%d\")))\n",
    "\n",
    "    rows = cursor.fetchall()\n",
    "    conn.close()\n",
    "\n",
    "    return {row[0]: {\n",
    "        \"Fajr\": row[1], \"Dhuhr\": row[2], \"Asr\": row[3],\n",
    "        \"Maghrib\": row[4], \"Isha\": row[5]\n",
    "    } for row in rows}\n"
   ]
  }
 ],
 "metadata": {
  "kernelspec": {
   "display_name": "Python 3",
   "language": "python",
   "name": "python3"
  },
  "language_info": {
   "codemirror_mode": {
    "name": "ipython",
    "version": 3
   },
   "file_extension": ".py",
   "mimetype": "text/x-python",
   "name": "python",
   "nbconvert_exporter": "python",
   "pygments_lexer": "ipython3",
   "version": "3.11.4"
  }
 },
 "nbformat": 4,
 "nbformat_minor": 5
}
